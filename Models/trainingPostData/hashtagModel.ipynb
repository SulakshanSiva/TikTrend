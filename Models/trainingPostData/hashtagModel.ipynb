{
 "cells": [
  {
   "cell_type": "code",
   "execution_count": null,
   "metadata": {},
   "outputs": [],
   "source": [
    "! pip install pandas\n",
    "! pip install matplotlib\n",
    "! pip install gensim"
   ]
  },
  {
   "cell_type": "code",
   "execution_count": 15,
   "metadata": {},
   "outputs": [],
   "source": [
    "import pandas as pd\n",
    "from sklearn.model_selection import train_test_split\n",
    "import numpy as np\n",
    "import ast\n",
    "\n"
   ]
  },
  {
   "cell_type": "code",
   "execution_count": 19,
   "metadata": {},
   "outputs": [
    {
     "data": {
      "text/html": [
       "<div>\n",
       "<style scoped>\n",
       "    .dataframe tbody tr th:only-of-type {\n",
       "        vertical-align: middle;\n",
       "    }\n",
       "\n",
       "    .dataframe tbody tr th {\n",
       "        vertical-align: top;\n",
       "    }\n",
       "\n",
       "    .dataframe thead th {\n",
       "        text-align: right;\n",
       "    }\n",
       "</style>\n",
       "<table border=\"1\" class=\"dataframe\">\n",
       "  <thead>\n",
       "    <tr style=\"text-align: right;\">\n",
       "      <th></th>\n",
       "      <th>monthSin</th>\n",
       "      <th>monthCos</th>\n",
       "      <th>daySin</th>\n",
       "      <th>dayCos</th>\n",
       "      <th>hourSin</th>\n",
       "      <th>hourCos</th>\n",
       "      <th>weekdaySin</th>\n",
       "      <th>weekdayCos</th>\n",
       "      <th>hashtagVectors</th>\n",
       "      <th>nLikes</th>\n",
       "      <th>nShares</th>\n",
       "      <th>nFollowers</th>\n",
       "      <th>nComments</th>\n",
       "      <th>nViews</th>\n",
       "      <th>nAccountTotalLikes</th>\n",
       "      <th>postYear</th>\n",
       "    </tr>\n",
       "  </thead>\n",
       "  <tbody>\n",
       "    <tr>\n",
       "      <th>0</th>\n",
       "      <td>-0.5</td>\n",
       "      <td>0.866025</td>\n",
       "      <td>0.988468</td>\n",
       "      <td>0.151428</td>\n",
       "      <td>-0.965926</td>\n",
       "      <td>-0.258819</td>\n",
       "      <td>-0.974928</td>\n",
       "      <td>-0.222521</td>\n",
       "      <td>[-0.06394912 -0.09934936  0.05018172  0.209499...</td>\n",
       "      <td>7.593374</td>\n",
       "      <td>1.386294</td>\n",
       "      <td>13.815512</td>\n",
       "      <td>2.944439</td>\n",
       "      <td>9.457279</td>\n",
       "      <td>15.363073</td>\n",
       "      <td>1.0</td>\n",
       "    </tr>\n",
       "    <tr>\n",
       "      <th>1</th>\n",
       "      <td>-0.5</td>\n",
       "      <td>0.866025</td>\n",
       "      <td>0.848644</td>\n",
       "      <td>0.528964</td>\n",
       "      <td>-0.258819</td>\n",
       "      <td>0.965926</td>\n",
       "      <td>0.433884</td>\n",
       "      <td>-0.900969</td>\n",
       "      <td>[-0.07862883 -0.10937244  0.03460374  0.202062...</td>\n",
       "      <td>8.905580</td>\n",
       "      <td>2.302585</td>\n",
       "      <td>13.815512</td>\n",
       "      <td>3.951244</td>\n",
       "      <td>10.874285</td>\n",
       "      <td>15.363073</td>\n",
       "      <td>1.0</td>\n",
       "    </tr>\n",
       "    <tr>\n",
       "      <th>2</th>\n",
       "      <td>-0.5</td>\n",
       "      <td>0.866025</td>\n",
       "      <td>0.724793</td>\n",
       "      <td>0.688967</td>\n",
       "      <td>-0.258819</td>\n",
       "      <td>-0.965926</td>\n",
       "      <td>0.974928</td>\n",
       "      <td>-0.222521</td>\n",
       "      <td>[-0.10907231 -0.05049138  0.07886021  0.172413...</td>\n",
       "      <td>8.439015</td>\n",
       "      <td>2.484907</td>\n",
       "      <td>13.815512</td>\n",
       "      <td>3.332205</td>\n",
       "      <td>10.537442</td>\n",
       "      <td>15.363073</td>\n",
       "      <td>1.0</td>\n",
       "    </tr>\n",
       "    <tr>\n",
       "      <th>3</th>\n",
       "      <td>-0.5</td>\n",
       "      <td>0.866025</td>\n",
       "      <td>0.571268</td>\n",
       "      <td>0.820763</td>\n",
       "      <td>-0.258819</td>\n",
       "      <td>0.965926</td>\n",
       "      <td>0.781831</td>\n",
       "      <td>0.623490</td>\n",
       "      <td>[-4.42794785e-02 -8.95778090e-02  4.70666662e-...</td>\n",
       "      <td>8.978660</td>\n",
       "      <td>1.945910</td>\n",
       "      <td>13.815512</td>\n",
       "      <td>3.218876</td>\n",
       "      <td>10.843514</td>\n",
       "      <td>15.363073</td>\n",
       "      <td>1.0</td>\n",
       "    </tr>\n",
       "    <tr>\n",
       "      <th>4</th>\n",
       "      <td>-0.5</td>\n",
       "      <td>0.866025</td>\n",
       "      <td>0.571268</td>\n",
       "      <td>0.820763</td>\n",
       "      <td>-0.258819</td>\n",
       "      <td>-0.965926</td>\n",
       "      <td>0.781831</td>\n",
       "      <td>0.623490</td>\n",
       "      <td>[-1.02420643e-01 -5.03370464e-02  7.44658336e-...</td>\n",
       "      <td>8.080237</td>\n",
       "      <td>2.302585</td>\n",
       "      <td>13.815512</td>\n",
       "      <td>2.708050</td>\n",
       "      <td>10.114599</td>\n",
       "      <td>15.363073</td>\n",
       "      <td>1.0</td>\n",
       "    </tr>\n",
       "  </tbody>\n",
       "</table>\n",
       "</div>"
      ],
      "text/plain": [
       "   monthSin  monthCos    daySin    dayCos   hourSin   hourCos  weekdaySin  \\\n",
       "0      -0.5  0.866025  0.988468  0.151428 -0.965926 -0.258819   -0.974928   \n",
       "1      -0.5  0.866025  0.848644  0.528964 -0.258819  0.965926    0.433884   \n",
       "2      -0.5  0.866025  0.724793  0.688967 -0.258819 -0.965926    0.974928   \n",
       "3      -0.5  0.866025  0.571268  0.820763 -0.258819  0.965926    0.781831   \n",
       "4      -0.5  0.866025  0.571268  0.820763 -0.258819 -0.965926    0.781831   \n",
       "\n",
       "   weekdayCos                                     hashtagVectors    nLikes  \\\n",
       "0   -0.222521  [-0.06394912 -0.09934936  0.05018172  0.209499...  7.593374   \n",
       "1   -0.900969  [-0.07862883 -0.10937244  0.03460374  0.202062...  8.905580   \n",
       "2   -0.222521  [-0.10907231 -0.05049138  0.07886021  0.172413...  8.439015   \n",
       "3    0.623490  [-4.42794785e-02 -8.95778090e-02  4.70666662e-...  8.978660   \n",
       "4    0.623490  [-1.02420643e-01 -5.03370464e-02  7.44658336e-...  8.080237   \n",
       "\n",
       "    nShares  nFollowers  nComments     nViews  nAccountTotalLikes  postYear  \n",
       "0  1.386294   13.815512   2.944439   9.457279           15.363073       1.0  \n",
       "1  2.302585   13.815512   3.951244  10.874285           15.363073       1.0  \n",
       "2  2.484907   13.815512   3.332205  10.537442           15.363073       1.0  \n",
       "3  1.945910   13.815512   3.218876  10.843514           15.363073       1.0  \n",
       "4  2.302585   13.815512   2.708050  10.114599           15.363073       1.0  "
      ]
     },
     "execution_count": 19,
     "metadata": {},
     "output_type": "execute_result"
    }
   ],
   "source": [
    "df = pd.read_csv(\"../../processedDataset/preprocessedPostData.csv\")\n",
    "\n",
    "df.head()"
   ]
  },
  {
   "cell_type": "code",
   "execution_count": 22,
   "metadata": {},
   "outputs": [
    {
     "ename": "SyntaxError",
     "evalue": "invalid syntax (<unknown>, line 1)",
     "output_type": "error",
     "traceback": [
      "Traceback \u001b[0;36m(most recent call last)\u001b[0m:\n",
      "  File \u001b[1;32m\"/Library/Frameworks/Python.framework/Versions/3.7/lib/python3.7/site-packages/IPython/core/interactiveshell.py\"\u001b[0m, line \u001b[1;32m3553\u001b[0m, in \u001b[1;35mrun_code\u001b[0m\n    exec(code_obj, self.user_global_ns, self.user_ns)\n",
      "  File \u001b[1;32m\"/var/folders/6t/c6_3_w794p53245q2v_ygbg40000gn/T/ipykernel_5680/383741345.py\"\u001b[0m, line \u001b[1;32m3\u001b[0m, in \u001b[1;35m<module>\u001b[0m\n    df['vectors'] = df['hashtagVectors'].apply(lambda x: np.array(literal_eval(x)))\n",
      "  File \u001b[1;32m\"/Library/Frameworks/Python.framework/Versions/3.7/lib/python3.7/site-packages/pandas/core/series.py\"\u001b[0m, line \u001b[1;32m4213\u001b[0m, in \u001b[1;35mapply\u001b[0m\n    mapped = lib.map_infer(values, f, convert=convert_dtype)\n",
      "  File \u001b[1;32m\"pandas/_libs/lib.pyx\"\u001b[0m, line \u001b[1;32m2403\u001b[0m, in \u001b[1;35mpandas._libs.lib.map_infer\u001b[0m\n",
      "  File \u001b[1;32m\"/var/folders/6t/c6_3_w794p53245q2v_ygbg40000gn/T/ipykernel_5680/383741345.py\"\u001b[0m, line \u001b[1;32m3\u001b[0m, in \u001b[1;35m<lambda>\u001b[0m\n    df['vectors'] = df['hashtagVectors'].apply(lambda x: np.array(literal_eval(x)))\n",
      "  File \u001b[1;32m\"/Library/Frameworks/Python.framework/Versions/3.7/lib/python3.7/ast.py\"\u001b[0m, line \u001b[1;32m46\u001b[0m, in \u001b[1;35mliteral_eval\u001b[0m\n    node_or_string = parse(node_or_string, mode='eval')\n",
      "\u001b[0;36m  File \u001b[0;32m\"/Library/Frameworks/Python.framework/Versions/3.7/lib/python3.7/ast.py\"\u001b[0;36m, line \u001b[0;32m35\u001b[0;36m, in \u001b[0;35mparse\u001b[0;36m\u001b[0m\n\u001b[0;31m    return compile(source, filename, mode, PyCF_ONLY_AST)\u001b[0m\n",
      "\u001b[0;36m  File \u001b[0;32m\"<unknown>\"\u001b[0;36m, line \u001b[0;32m1\u001b[0m\n\u001b[0;31m    [-0.06394912 -0.09934936  0.05018172  0.20949964  0.08610252 -0.07234877\u001b[0m\n\u001b[0m                                       ^\u001b[0m\n\u001b[0;31mSyntaxError\u001b[0m\u001b[0;31m:\u001b[0m invalid syntax\n"
     ]
    }
   ],
   "source": [
    "from ast import literal_eval\n",
    "\n",
    "df['vectors'] = df['hashtagVectors'].apply(lambda x: np.array(literal_eval(x)))\n",
    "# X = np.array([df['hashtagVectors']])\n",
    "X = np.vstack(df['vectors'].values)\n",
    "y = np.array(df['nLikes'].values)\n",
    "X_train, X_test, y_train, y_test = train_test_split(X, y, test_size=0.2, random_state=42)\n"
   ]
  },
  {
   "cell_type": "code",
   "execution_count": 13,
   "metadata": {},
   "outputs": [],
   "source": [
    "from sklearn.linear_model import LogisticRegression\n",
    "\n",
    "# Initialize the model\n",
    "model = LogisticRegression(max_iter=1000)  # Increased max_iter to ensure convergence\n"
   ]
  },
  {
   "cell_type": "code",
   "execution_count": 14,
   "metadata": {},
   "outputs": [
    {
     "ename": "ValueError",
     "evalue": "could not convert string to float: '[-6.23098947e-02 -7.48129711e-02  5.35395965e-02  1.92152575e-01\\n  1.02765433e-01 -8.03307965e-02  2.37409875e-01  1.42219648e-01\\n -2.85184919e-03 -8.96548554e-02 -3.12929042e-02  2.48000659e-02\\n -1.61998361e-01 -1.13968536e-01  9.01136473e-02 -1.46625355e-01\\n  6.49278471e-03  3.73223461e-02 -5.19672371e-02  2.32858807e-01\\n  1.82414874e-01 -1.47371560e-01 -7.09674284e-02  2.45485857e-01\\n -6.75048977e-02 -2.30783433e-01 -1.41616136e-01  7.19076246e-02\\n -1.53688699e-01  8.83396193e-02  3.11371423e-02 -4.98276316e-02\\n -8.51283818e-02  6.76052645e-02 -1.69197530e-01 -1.35109976e-01\\n  3.71699743e-02 -1.41257033e-01  1.87388927e-01  1.01183355e-02\\n  3.06853689e-02 -3.53892654e-01 -6.09709360e-02 -1.23922072e-01\\n  2.50658691e-01  9.89419073e-02  6.81984723e-02  5.80841377e-02\\n -2.15748828e-02 -9.69468206e-02  2.44854018e-01 -3.09965223e-01\\n -1.57866493e-01 -2.85762131e-01 -1.55225154e-02  2.97067314e-01\\n -8.54563937e-02  3.11399996e-01 -2.80112289e-02  1.10421851e-01\\n -2.38572918e-02  8.56026039e-02  2.05276012e-02 -9.53032374e-02\\n  1.51892021e-01 -1.40554607e-01 -2.47011453e-01 -2.10976042e-02\\n  5.09927608e-02  6.59796521e-02 -1.64315365e-02 -1.26346201e-01\\n  3.40690464e-01 -8.45137611e-02 -2.01371685e-01 -1.85376368e-02\\n  3.43162455e-02 -1.44117817e-01 -2.15050936e-01 -9.13906619e-02\\n -8.53823684e-03 -7.00893924e-02  1.96839236e-02  1.02284245e-01\\n  2.90490361e-03  1.63903356e-01  8.73227939e-02  5.26755825e-02\\n  2.68419504e-01 -1.09336033e-01  1.68617517e-01  6.73978776e-03\\n  1.95684165e-01  1.50604218e-01 -6.42889664e-02 -3.80695574e-02\\n -2.56344616e-01 -1.68682739e-01 -3.46861556e-02 -1.38238117e-01\\n -2.97384709e-01  2.62743205e-01  1.09139495e-01 -1.65462226e-01\\n  7.77323768e-02 -6.65855855e-02 -2.36767009e-01  7.51662850e-02\\n  6.21408864e-04 -1.02321394e-01 -5.85624464e-02 -1.12812765e-01\\n -2.57891659e-02 -1.48146842e-02 -2.40515620e-01  3.12829792e-01\\n  5.96692376e-02  2.39151623e-02  1.50620332e-02  2.37123519e-01\\n -9.37300697e-02 -5.26184924e-02  1.87994346e-01 -4.36983164e-03\\n  5.83951995e-02 -1.22541323e-01 -1.60295740e-01  3.07020824e-02\\n -8.72660950e-02 -9.81098879e-03  7.12257102e-02  6.81533804e-03\\n  7.83494487e-02 -1.82810530e-01  9.87801701e-02  1.80858985e-01\\n  6.13791086e-02  3.41230854e-02 -9.03156921e-02 -2.59304613e-01\\n -5.72242662e-02 -1.81120366e-01  1.61939591e-01 -6.42858818e-02\\n -1.46219000e-01 -1.58944145e-01 -3.44375312e-01  6.05993196e-02\\n  1.56769734e-02 -1.01530239e-01 -1.29566044e-01 -3.19019496e-01\\n -3.77331115e-02 -2.58808166e-01 -1.05909929e-01  5.31663597e-02\\n  1.99909415e-02 -1.06726684e-01 -2.92065948e-01  5.91692422e-03\\n  9.98323634e-02  9.78394598e-02 -3.09050649e-01  1.80888698e-01\\n  1.88119143e-01 -4.39410210e-02  1.72265097e-01  1.61240488e-01\\n -2.52907395e-01  9.58159342e-02 -2.11969152e-01  1.05623320e-01\\n  1.98792368e-02 -2.18996644e-01  2.23750129e-01 -1.44310072e-02\\n -8.33301991e-02  1.52521536e-01 -1.00330941e-01  1.86057955e-01\\n -3.05600073e-02  2.48679593e-01  2.31236480e-02  7.69618079e-02\\n  1.44713209e-03  1.29428416e-01 -1.34743437e-01  2.88755715e-01\\n -8.78421813e-02  1.37842670e-01  3.88554782e-01 -8.68954808e-02\\n -2.71282952e-05 -1.90460775e-02  8.63363817e-02  3.29181343e-01\\n -2.95065902e-02 -1.68390080e-01  4.29583387e-03 -2.80905247e-01]'",
     "output_type": "error",
     "traceback": [
      "\u001b[0;31m---------------------------------------------------------------------------\u001b[0m",
      "\u001b[0;31mValueError\u001b[0m                                Traceback (most recent call last)",
      "\u001b[0;32m/var/folders/6t/c6_3_w794p53245q2v_ygbg40000gn/T/ipykernel_5680/180087699.py\u001b[0m in \u001b[0;36m<module>\u001b[0;34m\u001b[0m\n\u001b[0;32m----> 1\u001b[0;31m \u001b[0mmodel\u001b[0m\u001b[0;34m.\u001b[0m\u001b[0mfit\u001b[0m\u001b[0;34m(\u001b[0m\u001b[0mX_train\u001b[0m\u001b[0;34m,\u001b[0m \u001b[0my_train\u001b[0m\u001b[0;34m)\u001b[0m\u001b[0;34m\u001b[0m\u001b[0m\n\u001b[0m",
      "\u001b[0;32m/Library/Frameworks/Python.framework/Versions/3.7/lib/python3.7/site-packages/sklearn/linear_model/_logistic.py\u001b[0m in \u001b[0;36mfit\u001b[0;34m(self, X, y, sample_weight)\u001b[0m\n\u001b[1;32m   1512\u001b[0m             \u001b[0mdtype\u001b[0m\u001b[0;34m=\u001b[0m\u001b[0m_dtype\u001b[0m\u001b[0;34m,\u001b[0m\u001b[0;34m\u001b[0m\u001b[0m\n\u001b[1;32m   1513\u001b[0m             \u001b[0morder\u001b[0m\u001b[0;34m=\u001b[0m\u001b[0;34m\"C\"\u001b[0m\u001b[0;34m,\u001b[0m\u001b[0;34m\u001b[0m\u001b[0m\n\u001b[0;32m-> 1514\u001b[0;31m             \u001b[0maccept_large_sparse\u001b[0m\u001b[0;34m=\u001b[0m\u001b[0msolver\u001b[0m \u001b[0;32mnot\u001b[0m \u001b[0;32min\u001b[0m \u001b[0;34m[\u001b[0m\u001b[0;34m\"liblinear\"\u001b[0m\u001b[0;34m,\u001b[0m \u001b[0;34m\"sag\"\u001b[0m\u001b[0;34m,\u001b[0m \u001b[0;34m\"saga\"\u001b[0m\u001b[0;34m]\u001b[0m\u001b[0;34m,\u001b[0m\u001b[0;34m\u001b[0m\u001b[0m\n\u001b[0m\u001b[1;32m   1515\u001b[0m         )\n\u001b[1;32m   1516\u001b[0m         \u001b[0mcheck_classification_targets\u001b[0m\u001b[0;34m(\u001b[0m\u001b[0my\u001b[0m\u001b[0;34m)\u001b[0m\u001b[0;34m\u001b[0m\u001b[0m\n",
      "\u001b[0;32m/Library/Frameworks/Python.framework/Versions/3.7/lib/python3.7/site-packages/sklearn/base.py\u001b[0m in \u001b[0;36m_validate_data\u001b[0;34m(self, X, y, reset, validate_separately, **check_params)\u001b[0m\n\u001b[1;32m    579\u001b[0m                 \u001b[0my\u001b[0m \u001b[0;34m=\u001b[0m \u001b[0mcheck_array\u001b[0m\u001b[0;34m(\u001b[0m\u001b[0my\u001b[0m\u001b[0;34m,\u001b[0m \u001b[0;34m**\u001b[0m\u001b[0mcheck_y_params\u001b[0m\u001b[0;34m)\u001b[0m\u001b[0;34m\u001b[0m\u001b[0m\n\u001b[1;32m    580\u001b[0m             \u001b[0;32melse\u001b[0m\u001b[0;34m:\u001b[0m\u001b[0;34m\u001b[0m\u001b[0m\n\u001b[0;32m--> 581\u001b[0;31m                 \u001b[0mX\u001b[0m\u001b[0;34m,\u001b[0m \u001b[0my\u001b[0m \u001b[0;34m=\u001b[0m \u001b[0mcheck_X_y\u001b[0m\u001b[0;34m(\u001b[0m\u001b[0mX\u001b[0m\u001b[0;34m,\u001b[0m \u001b[0my\u001b[0m\u001b[0;34m,\u001b[0m \u001b[0;34m**\u001b[0m\u001b[0mcheck_params\u001b[0m\u001b[0;34m)\u001b[0m\u001b[0;34m\u001b[0m\u001b[0m\n\u001b[0m\u001b[1;32m    582\u001b[0m             \u001b[0mout\u001b[0m \u001b[0;34m=\u001b[0m \u001b[0mX\u001b[0m\u001b[0;34m,\u001b[0m \u001b[0my\u001b[0m\u001b[0;34m\u001b[0m\u001b[0m\n\u001b[1;32m    583\u001b[0m \u001b[0;34m\u001b[0m\u001b[0m\n",
      "\u001b[0;32m/Library/Frameworks/Python.framework/Versions/3.7/lib/python3.7/site-packages/sklearn/utils/validation.py\u001b[0m in \u001b[0;36mcheck_X_y\u001b[0;34m(X, y, accept_sparse, accept_large_sparse, dtype, order, copy, force_all_finite, ensure_2d, allow_nd, multi_output, ensure_min_samples, ensure_min_features, y_numeric, estimator)\u001b[0m\n\u001b[1;32m    974\u001b[0m         \u001b[0mensure_min_samples\u001b[0m\u001b[0;34m=\u001b[0m\u001b[0mensure_min_samples\u001b[0m\u001b[0;34m,\u001b[0m\u001b[0;34m\u001b[0m\u001b[0m\n\u001b[1;32m    975\u001b[0m         \u001b[0mensure_min_features\u001b[0m\u001b[0;34m=\u001b[0m\u001b[0mensure_min_features\u001b[0m\u001b[0;34m,\u001b[0m\u001b[0;34m\u001b[0m\u001b[0m\n\u001b[0;32m--> 976\u001b[0;31m         \u001b[0mestimator\u001b[0m\u001b[0;34m=\u001b[0m\u001b[0mestimator\u001b[0m\u001b[0;34m,\u001b[0m\u001b[0;34m\u001b[0m\u001b[0m\n\u001b[0m\u001b[1;32m    977\u001b[0m     )\n\u001b[1;32m    978\u001b[0m \u001b[0;34m\u001b[0m\u001b[0m\n",
      "\u001b[0;32m/Library/Frameworks/Python.framework/Versions/3.7/lib/python3.7/site-packages/sklearn/utils/validation.py\u001b[0m in \u001b[0;36mcheck_array\u001b[0;34m(array, accept_sparse, accept_large_sparse, dtype, order, copy, force_all_finite, ensure_2d, allow_nd, ensure_min_samples, ensure_min_features, estimator)\u001b[0m\n\u001b[1;32m    744\u001b[0m                     \u001b[0marray\u001b[0m \u001b[0;34m=\u001b[0m \u001b[0marray\u001b[0m\u001b[0;34m.\u001b[0m\u001b[0mastype\u001b[0m\u001b[0;34m(\u001b[0m\u001b[0mdtype\u001b[0m\u001b[0;34m,\u001b[0m \u001b[0mcasting\u001b[0m\u001b[0;34m=\u001b[0m\u001b[0;34m\"unsafe\"\u001b[0m\u001b[0;34m,\u001b[0m \u001b[0mcopy\u001b[0m\u001b[0;34m=\u001b[0m\u001b[0;32mFalse\u001b[0m\u001b[0;34m)\u001b[0m\u001b[0;34m\u001b[0m\u001b[0m\n\u001b[1;32m    745\u001b[0m                 \u001b[0;32melse\u001b[0m\u001b[0;34m:\u001b[0m\u001b[0;34m\u001b[0m\u001b[0m\n\u001b[0;32m--> 746\u001b[0;31m                     \u001b[0marray\u001b[0m \u001b[0;34m=\u001b[0m \u001b[0mnp\u001b[0m\u001b[0;34m.\u001b[0m\u001b[0masarray\u001b[0m\u001b[0;34m(\u001b[0m\u001b[0marray\u001b[0m\u001b[0;34m,\u001b[0m \u001b[0morder\u001b[0m\u001b[0;34m=\u001b[0m\u001b[0morder\u001b[0m\u001b[0;34m,\u001b[0m \u001b[0mdtype\u001b[0m\u001b[0;34m=\u001b[0m\u001b[0mdtype\u001b[0m\u001b[0;34m)\u001b[0m\u001b[0;34m\u001b[0m\u001b[0m\n\u001b[0m\u001b[1;32m    747\u001b[0m             \u001b[0;32mexcept\u001b[0m \u001b[0mComplexWarning\u001b[0m \u001b[0;32mas\u001b[0m \u001b[0mcomplex_warning\u001b[0m\u001b[0;34m:\u001b[0m\u001b[0;34m\u001b[0m\u001b[0m\n\u001b[1;32m    748\u001b[0m                 raise ValueError(\n",
      "\u001b[0;31mValueError\u001b[0m: could not convert string to float: '[-6.23098947e-02 -7.48129711e-02  5.35395965e-02  1.92152575e-01\\n  1.02765433e-01 -8.03307965e-02  2.37409875e-01  1.42219648e-01\\n -2.85184919e-03 -8.96548554e-02 -3.12929042e-02  2.48000659e-02\\n -1.61998361e-01 -1.13968536e-01  9.01136473e-02 -1.46625355e-01\\n  6.49278471e-03  3.73223461e-02 -5.19672371e-02  2.32858807e-01\\n  1.82414874e-01 -1.47371560e-01 -7.09674284e-02  2.45485857e-01\\n -6.75048977e-02 -2.30783433e-01 -1.41616136e-01  7.19076246e-02\\n -1.53688699e-01  8.83396193e-02  3.11371423e-02 -4.98276316e-02\\n -8.51283818e-02  6.76052645e-02 -1.69197530e-01 -1.35109976e-01\\n  3.71699743e-02 -1.41257033e-01  1.87388927e-01  1.01183355e-02\\n  3.06853689e-02 -3.53892654e-01 -6.09709360e-02 -1.23922072e-01\\n  2.50658691e-01  9.89419073e-02  6.81984723e-02  5.80841377e-02\\n -2.15748828e-02 -9.69468206e-02  2.44854018e-01 -3.09965223e-01\\n -1.57866493e-01 -2.85762131e-01 -1.55225154e-02  2.97067314e-01\\n -8.54563937e-02  3.11399996e-01 -2.80112289e-02  1.10421851e-01\\n -2.38572918e-02  8.56026039e-02  2.05276012e-02 -9.53032374e-02\\n  1.51892021e-01 -1.40554607e-01 -2.47011453e-01 -2.10976042e-02\\n  5.09927608e-02  6.59796521e-02 -1.64315365e-02 -1.26346201e-01\\n  3.40690464e-01 -8.45137611e-02 -2.01371685e-01 -1.85376368e-02\\n  3.43162455e-02 -1.44117817e-01 -2.15050936e-01 -9.13906619e-02\\n -8.53823684e-03 -7.00893924e-02  1.96839236e-02  1.02284245e-01\\n  2.90490361e-03  1.63903356e-01  8.73227939e-02  5.26755825e-02\\n  2.68419504e-01 -1.09336033e-01  1.68617517e-01  6.73978776e-03\\n  1.95684165e-01  1.50604218e-01 -6.42889664e-02 -3.80695574e-02\\n -2.56344616e-01 -1.68682739e-01 -3.46861556e-02 -1.38238117e-01\\n -2.97384709e-01  2.62743205e-01  1.09139495e-01 -1.65462226e-01\\n  7.77323768e-02 -6.65855855e-02 -2.36767009e-01  7.51662850e-02\\n  6.21408864e-04 -1.02321394e-01 -5.85624464e-02 -1.12812765e-01\\n -2.57891659e-02 -1.48146842e-02 -2.40515620e-01  3.12829792e-01\\n  5.96692376e-02  2.39151623e-02  1.50620332e-02  2.37123519e-01\\n -9.37300697e-02 -5.26184924e-02  1.87994346e-01 -4.36983164e-03\\n  5.83951995e-02 -1.22541323e-01 -1.60295740e-01  3.07020824e-02\\n -8.72660950e-02 -9.81098879e-03  7.12257102e-02  6.81533804e-03\\n  7.83494487e-02 -1.82810530e-01  9.87801701e-02  1.80858985e-01\\n  6.13791086e-02  3.41230854e-02 -9.03156921e-02 -2.59304613e-01\\n -5.72242662e-02 -1.81120366e-01  1.61939591e-01 -6.42858818e-02\\n -1.46219000e-01 -1.58944145e-01 -3.44375312e-01  6.05993196e-02\\n  1.56769734e-02 -1.01530239e-01 -1.29566044e-01 -3.19019496e-01\\n -3.77331115e-02 -2.58808166e-01 -1.05909929e-01  5.31663597e-02\\n  1.99909415e-02 -1.06726684e-01 -2.92065948e-01  5.91692422e-03\\n  9.98323634e-02  9.78394598e-02 -3.09050649e-01  1.80888698e-01\\n  1.88119143e-01 -4.39410210e-02  1.72265097e-01  1.61240488e-01\\n -2.52907395e-01  9.58159342e-02 -2.11969152e-01  1.05623320e-01\\n  1.98792368e-02 -2.18996644e-01  2.23750129e-01 -1.44310072e-02\\n -8.33301991e-02  1.52521536e-01 -1.00330941e-01  1.86057955e-01\\n -3.05600073e-02  2.48679593e-01  2.31236480e-02  7.69618079e-02\\n  1.44713209e-03  1.29428416e-01 -1.34743437e-01  2.88755715e-01\\n -8.78421813e-02  1.37842670e-01  3.88554782e-01 -8.68954808e-02\\n -2.71282952e-05 -1.90460775e-02  8.63363817e-02  3.29181343e-01\\n -2.95065902e-02 -1.68390080e-01  4.29583387e-03 -2.80905247e-01]'"
     ]
    }
   ],
   "source": [
    "model.fit(X_train, y_train)"
   ]
  },
  {
   "cell_type": "code",
   "execution_count": null,
   "metadata": {},
   "outputs": [],
   "source": []
  }
 ],
 "metadata": {
  "kernelspec": {
   "display_name": "Python 3.7.0 64-bit",
   "language": "python",
   "name": "python3"
  },
  "language_info": {
   "codemirror_mode": {
    "name": "ipython",
    "version": 3
   },
   "file_extension": ".py",
   "mimetype": "text/x-python",
   "name": "python",
   "nbconvert_exporter": "python",
   "pygments_lexer": "ipython3",
   "version": "3.7.0"
  },
  "orig_nbformat": 4,
  "vscode": {
   "interpreter": {
    "hash": "aee8b7b246df8f9039afb4144a1f6fd8d2ca17a180786b69acc140d282b71a49"
   }
  }
 },
 "nbformat": 4,
 "nbformat_minor": 2
}
