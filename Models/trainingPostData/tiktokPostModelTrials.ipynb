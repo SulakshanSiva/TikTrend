{
 "cells": [
  {
   "cell_type": "markdown",
   "metadata": {},
   "source": [
    "# Training Post Data Trial 1 "
   ]
  },
  {
   "cell_type": "code",
   "execution_count": 1,
   "metadata": {},
   "outputs": [],
   "source": [
    "# ! pip install pandas\n",
    "# ! pip install matplotlib\n",
    "# ! pip install gensim"
   ]
  },
  {
   "cell_type": "code",
   "execution_count": 1,
   "metadata": {},
   "outputs": [],
   "source": [
    "import pandas as pd\n",
    "from sklearn.model_selection import train_test_split\n"
   ]
  },
  {
   "cell_type": "code",
   "execution_count": 2,
   "metadata": {},
   "outputs": [
    {
     "data": {
      "text/html": [
       "<div>\n",
       "<style scoped>\n",
       "    .dataframe tbody tr th:only-of-type {\n",
       "        vertical-align: middle;\n",
       "    }\n",
       "\n",
       "    .dataframe tbody tr th {\n",
       "        vertical-align: top;\n",
       "    }\n",
       "\n",
       "    .dataframe thead th {\n",
       "        text-align: right;\n",
       "    }\n",
       "</style>\n",
       "<table border=\"1\" class=\"dataframe\">\n",
       "  <thead>\n",
       "    <tr style=\"text-align: right;\">\n",
       "      <th></th>\n",
       "      <th>monthSin</th>\n",
       "      <th>monthCos</th>\n",
       "      <th>daySin</th>\n",
       "      <th>dayCos</th>\n",
       "      <th>hourSin</th>\n",
       "      <th>hourCos</th>\n",
       "      <th>weekdaySin</th>\n",
       "      <th>weekdayCos</th>\n",
       "      <th>hashtagVectors</th>\n",
       "      <th>nLikes</th>\n",
       "      <th>nShares</th>\n",
       "      <th>nFollowers</th>\n",
       "      <th>nComments</th>\n",
       "      <th>nViews</th>\n",
       "      <th>nAccountTotalLikes</th>\n",
       "      <th>postYear</th>\n",
       "    </tr>\n",
       "  </thead>\n",
       "  <tbody>\n",
       "    <tr>\n",
       "      <th>0</th>\n",
       "      <td>-0.5</td>\n",
       "      <td>0.866025</td>\n",
       "      <td>0.988468</td>\n",
       "      <td>0.151428</td>\n",
       "      <td>-0.965926</td>\n",
       "      <td>-0.258819</td>\n",
       "      <td>-0.974928</td>\n",
       "      <td>-0.222521</td>\n",
       "      <td>[-0.06394912 -0.09934936  0.05018172  0.209499...</td>\n",
       "      <td>7.593374</td>\n",
       "      <td>1.386294</td>\n",
       "      <td>13.815512</td>\n",
       "      <td>2.944439</td>\n",
       "      <td>9.457279</td>\n",
       "      <td>15.363073</td>\n",
       "      <td>1.0</td>\n",
       "    </tr>\n",
       "    <tr>\n",
       "      <th>1</th>\n",
       "      <td>-0.5</td>\n",
       "      <td>0.866025</td>\n",
       "      <td>0.848644</td>\n",
       "      <td>0.528964</td>\n",
       "      <td>-0.258819</td>\n",
       "      <td>0.965926</td>\n",
       "      <td>0.433884</td>\n",
       "      <td>-0.900969</td>\n",
       "      <td>[-0.07862883 -0.10937244  0.03460374  0.202062...</td>\n",
       "      <td>8.905580</td>\n",
       "      <td>2.302585</td>\n",
       "      <td>13.815512</td>\n",
       "      <td>3.951244</td>\n",
       "      <td>10.874285</td>\n",
       "      <td>15.363073</td>\n",
       "      <td>1.0</td>\n",
       "    </tr>\n",
       "    <tr>\n",
       "      <th>2</th>\n",
       "      <td>-0.5</td>\n",
       "      <td>0.866025</td>\n",
       "      <td>0.724793</td>\n",
       "      <td>0.688967</td>\n",
       "      <td>-0.258819</td>\n",
       "      <td>-0.965926</td>\n",
       "      <td>0.974928</td>\n",
       "      <td>-0.222521</td>\n",
       "      <td>[-0.10907231 -0.05049138  0.07886021  0.172413...</td>\n",
       "      <td>8.439015</td>\n",
       "      <td>2.484907</td>\n",
       "      <td>13.815512</td>\n",
       "      <td>3.332205</td>\n",
       "      <td>10.537442</td>\n",
       "      <td>15.363073</td>\n",
       "      <td>1.0</td>\n",
       "    </tr>\n",
       "    <tr>\n",
       "      <th>3</th>\n",
       "      <td>-0.5</td>\n",
       "      <td>0.866025</td>\n",
       "      <td>0.571268</td>\n",
       "      <td>0.820763</td>\n",
       "      <td>-0.258819</td>\n",
       "      <td>0.965926</td>\n",
       "      <td>0.781831</td>\n",
       "      <td>0.623490</td>\n",
       "      <td>[-4.42794785e-02 -8.95778090e-02  4.70666662e-...</td>\n",
       "      <td>8.978660</td>\n",
       "      <td>1.945910</td>\n",
       "      <td>13.815512</td>\n",
       "      <td>3.218876</td>\n",
       "      <td>10.843514</td>\n",
       "      <td>15.363073</td>\n",
       "      <td>1.0</td>\n",
       "    </tr>\n",
       "    <tr>\n",
       "      <th>4</th>\n",
       "      <td>-0.5</td>\n",
       "      <td>0.866025</td>\n",
       "      <td>0.571268</td>\n",
       "      <td>0.820763</td>\n",
       "      <td>-0.258819</td>\n",
       "      <td>-0.965926</td>\n",
       "      <td>0.781831</td>\n",
       "      <td>0.623490</td>\n",
       "      <td>[-1.02420643e-01 -5.03370464e-02  7.44658336e-...</td>\n",
       "      <td>8.080237</td>\n",
       "      <td>2.302585</td>\n",
       "      <td>13.815512</td>\n",
       "      <td>2.708050</td>\n",
       "      <td>10.114599</td>\n",
       "      <td>15.363073</td>\n",
       "      <td>1.0</td>\n",
       "    </tr>\n",
       "  </tbody>\n",
       "</table>\n",
       "</div>"
      ],
      "text/plain": [
       "   monthSin  monthCos    daySin    dayCos   hourSin   hourCos  weekdaySin  \\\n",
       "0      -0.5  0.866025  0.988468  0.151428 -0.965926 -0.258819   -0.974928   \n",
       "1      -0.5  0.866025  0.848644  0.528964 -0.258819  0.965926    0.433884   \n",
       "2      -0.5  0.866025  0.724793  0.688967 -0.258819 -0.965926    0.974928   \n",
       "3      -0.5  0.866025  0.571268  0.820763 -0.258819  0.965926    0.781831   \n",
       "4      -0.5  0.866025  0.571268  0.820763 -0.258819 -0.965926    0.781831   \n",
       "\n",
       "   weekdayCos                                     hashtagVectors    nLikes  \\\n",
       "0   -0.222521  [-0.06394912 -0.09934936  0.05018172  0.209499...  7.593374   \n",
       "1   -0.900969  [-0.07862883 -0.10937244  0.03460374  0.202062...  8.905580   \n",
       "2   -0.222521  [-0.10907231 -0.05049138  0.07886021  0.172413...  8.439015   \n",
       "3    0.623490  [-4.42794785e-02 -8.95778090e-02  4.70666662e-...  8.978660   \n",
       "4    0.623490  [-1.02420643e-01 -5.03370464e-02  7.44658336e-...  8.080237   \n",
       "\n",
       "    nShares  nFollowers  nComments     nViews  nAccountTotalLikes  postYear  \n",
       "0  1.386294   13.815512   2.944439   9.457279           15.363073       1.0  \n",
       "1  2.302585   13.815512   3.951244  10.874285           15.363073       1.0  \n",
       "2  2.484907   13.815512   3.332205  10.537442           15.363073       1.0  \n",
       "3  1.945910   13.815512   3.218876  10.843514           15.363073       1.0  \n",
       "4  2.302585   13.815512   2.708050  10.114599           15.363073       1.0  "
      ]
     },
     "execution_count": 2,
     "metadata": {},
     "output_type": "execute_result"
    }
   ],
   "source": [
    "df = pd.read_csv(\"../../processedDataset/preprocessedPostData.csv\")\n",
    "\n",
    "df.head()"
   ]
  },
  {
   "cell_type": "markdown",
   "metadata": {},
   "source": [
    "## Data Preparation"
   ]
  },
  {
   "cell_type": "code",
   "execution_count": 3,
   "metadata": {},
   "outputs": [],
   "source": [
    "x = df[['nLikes', 'nShares', 'nFollowers']]\n",
    "y = df['nViews']\n",
    "# xTrain, xTest, yTrain, yTest = train_test_split( x, y,test_size=0.2, random_state=100)"
   ]
  },
  {
   "cell_type": "markdown",
   "metadata": {},
   "source": [
    "## Model Building"
   ]
  },
  {
   "cell_type": "code",
   "execution_count": 4,
   "metadata": {},
   "outputs": [],
   "source": [
    "from sklearn.metrics import mean_squared_error, r2_score, mean_absolute_error, f1_score "
   ]
  },
  {
   "cell_type": "code",
   "execution_count": 37,
   "metadata": {},
   "outputs": [],
   "source": [
    "from sklearn.model_selection import cross_validate\n",
    "from sklearn.metrics import make_scorer, mean_squared_error, r2_score, mean_absolute_error\n",
    "import matplotlib.pyplot as plt\n",
    "import seaborn as sns\n",
    "\n",
    "\n",
    "def trainModel(model, modelName):\n",
    "    scoring = {\n",
    "    'MSE': make_scorer(mean_squared_error, greater_is_better=False),\n",
    "    'R2': 'r2',\n",
    "    'RMSE': make_scorer(mean_squared_error, squared=False, greater_is_better=False),\n",
    "    'MAE': make_scorer(mean_absolute_error, greater_is_better=False)\n",
    "    }\n",
    "\n",
    "    # Perform cross-validation and get scores for each metric\n",
    "    # cvResults = cross_validate(model, xTrain, yTrain, cv=5, scoring=scoring, return_train_score=True)\n",
    "    cvResults = cross_validate(model, x, y, cv=5, scoring=scoring, return_train_score=True)\n",
    "\n",
    "    # Convert the results to a DataFrame for better readability\n",
    "    resultsDf = pd.DataFrame(cvResults)\n",
    "\n",
    "    # Since 'greater_is_better=False', the scores for MSE, RMSE, and MAE will be negative. We will negate them for correct interpretation\n",
    "    resultsDf['test_MSE'] = -resultsDf['test_MSE']\n",
    "    resultsDf['test_RMSE'] = -resultsDf['test_RMSE']\n",
    "    resultsDf['test_MAE'] = -resultsDf['test_MAE']\n",
    "\n",
    "    print(f'Model: {modelName}')\n",
    "\n",
    "    print(\"Cross-validation results (each fold):\")\n",
    "    print(resultsDf[['test_MSE', 'test_R2', 'test_RMSE', 'test_MAE']])\n",
    "\n",
    "    # Print mean and standard deviation of the metrics\n",
    "    meanMetrics = resultsDf[['test_MSE', 'test_R2', 'test_RMSE', 'test_MAE']].mean()\n",
    "    stdMetrics = resultsDf[['test_MSE', 'test_R2', 'test_RMSE', 'test_MAE']].std()\n",
    "\n",
    "    print(\"\\nMean of metrics:\")\n",
    "    print(meanMetrics)\n",
    "\n",
    "    print(\"\\nStandard Deviation of metrics:\")\n",
    "    print(stdMetrics)\n",
    "    \n",
    "\n",
    "    plotResults = {\n",
    "    'MSE': resultsDf['test_MSE'],\n",
    "    'RMSE': resultsDf['test_RMSE'],\n",
    "    'MAE': resultsDf['test_MAE'],\n",
    "    'R2': resultsDf['test_R2']\n",
    "    }        \n",
    "    plotResultsDf = pd.DataFrame(plotResults)   \n",
    "    plt.figure(figsize=(10, 6))\n",
    "    sns.boxplot(data=plotResultsDf, palette=\"Set2\")\n",
    "    plt.title('Distribution of Cross-Validation Performance Metrics')\n",
    "    plt.xlabel('Performance Metrics')\n",
    "    plt.ylabel('Metric Values')\n",
    "    plt.show()\n",
    "\n",
    "    return meanMetrics, stdMetrics"
   ]
  },
  {
   "cell_type": "markdown",
   "metadata": {},
   "source": [
    "### Linear Regression"
   ]
  },
  {
   "cell_type": "code",
   "execution_count": 38,
   "metadata": {},
   "outputs": [
    {
     "name": "stdout",
     "output_type": "stream",
     "text": [
      "Model: Linear Regression\n",
      "Cross-validation results (each fold):\n",
      "   test_MSE   test_R2  test_RMSE  test_MAE\n",
      "0  0.169484  0.966437   0.411685  0.310218\n",
      "1  0.220233  0.965661   0.469290  0.367104\n",
      "2  0.274728  0.960514   0.524145  0.409805\n",
      "3  0.240901  0.948640   0.490817  0.385614\n",
      "4  0.251300  0.948430   0.501298  0.386558\n",
      "\n",
      "Mean of metrics:\n",
      "test_MSE     0.231329\n",
      "test_R2      0.957937\n",
      "test_RMSE    0.479447\n",
      "test_MAE     0.371860\n",
      "dtype: float64\n",
      "\n",
      "Standard Deviation of metrics:\n",
      "test_MSE     0.039755\n",
      "test_R2      0.008879\n",
      "test_RMSE    0.042719\n",
      "test_MAE     0.037641\n",
      "dtype: float64\n"
     ]
    },
    {
     "data": {
      "image/png": "[encoded data removed]",
      "text/plain": [
       "<Figure size 1000x600 with 1 Axes>"
      ]
     },
     "metadata": {},
     "output_type": "display_data"
    }
   ],
   "source": [
    "from sklearn.linear_model import LinearRegression\n",
    "\n",
    "lr = LinearRegression()\n",
    "\n",
    "meanLinearRes, stdLinearRes = trainModel(lr, \"Linear Regression\")"
   ]
  },
  {
   "cell_type": "markdown",
   "metadata": {},
   "source": [
    "### Finetuning"
   ]
  },
  {
   "cell_type": "code",
   "execution_count": 8,
   "metadata": {},
   "outputs": [
    {
     "name": "stdout",
     "output_type": "stream",
     "text": [
      "Best parameters found:  {'normalize': True, 'fit_intercept': True}\n"
     ]
    },
    {
     "name": "stderr",
     "output_type": "stream",
     "text": [
      "/Library/Frameworks/Python.framework/Versions/3.7/lib/python3.7/site-packages/sklearn/model_selection/_search.py:296: UserWarning: The total space of parameters 4 is smaller than n_iter=50. Running 4 iterations. For exhaustive searches, use GridSearchCV.\n",
      "  UserWarning,\n",
      "/Library/Frameworks/Python.framework/Versions/3.7/lib/python3.7/site-packages/sklearn/linear_model/_base.py:145: FutureWarning: 'normalize' was deprecated in version 1.0 and will be removed in 1.2.\n",
      "If you wish to scale the data, use Pipeline with a StandardScaler in a preprocessing stage. To reproduce the previous behavior:\n",
      "\n",
      "from sklearn.pipeline import make_pipeline\n",
      "\n",
      "model = make_pipeline(StandardScaler(with_mean=False), LinearRegression())\n",
      "\n",
      "If you wish to pass a sample_weight parameter, you need to pass it as a fit parameter to each step of the pipeline as follows:\n",
      "\n",
      "kwargs = {s[0] + '__sample_weight': sample_weight for s in model.steps}\n",
      "model.fit(X, y, **kwargs)\n",
      "\n",
      "\n",
      "  FutureWarning,\n",
      "/Library/Frameworks/Python.framework/Versions/3.7/lib/python3.7/site-packages/sklearn/linear_model/_base.py:145: FutureWarning: 'normalize' was deprecated in version 1.0 and will be removed in 1.2.\n",
      "If you wish to scale the data, use Pipeline with a StandardScaler in a preprocessing stage. To reproduce the previous behavior:\n",
      "\n",
      "from sklearn.pipeline import make_pipeline\n",
      "\n",
      "model = make_pipeline(StandardScaler(with_mean=False), LinearRegression())\n",
      "\n",
      "If you wish to pass a sample_weight parameter, you need to pass it as a fit parameter to each step of the pipeline as follows:\n",
      "\n",
      "kwargs = {s[0] + '__sample_weight': sample_weight for s in model.steps}\n",
      "model.fit(X, y, **kwargs)\n",
      "\n",
      "\n",
      "  FutureWarning,\n",
      "/Library/Frameworks/Python.framework/Versions/3.7/lib/python3.7/site-packages/sklearn/linear_model/_base.py:145: FutureWarning: 'normalize' was deprecated in version 1.0 and will be removed in 1.2.\n",
      "If you wish to scale the data, use Pipeline with a StandardScaler in a preprocessing stage. To reproduce the previous behavior:\n",
      "\n",
      "from sklearn.pipeline import make_pipeline\n",
      "\n",
      "model = make_pipeline(StandardScaler(with_mean=False), LinearRegression())\n",
      "\n",
      "If you wish to pass a sample_weight parameter, you need to pass it as a fit parameter to each step of the pipeline as follows:\n",
      "\n",
      "kwargs = {s[0] + '__sample_weight': sample_weight for s in model.steps}\n",
      "model.fit(X, y, **kwargs)\n",
      "\n",
      "\n",
      "  FutureWarning,\n",
      "/Library/Frameworks/Python.framework/Versions/3.7/lib/python3.7/site-packages/sklearn/linear_model/_base.py:145: FutureWarning: 'normalize' was deprecated in version 1.0 and will be removed in 1.2.\n",
      "If you wish to scale the data, use Pipeline with a StandardScaler in a preprocessing stage. To reproduce the previous behavior:\n",
      "\n",
      "from sklearn.pipeline import make_pipeline\n",
      "\n",
      "model = make_pipeline(StandardScaler(with_mean=False), LinearRegression())\n",
      "\n",
      "If you wish to pass a sample_weight parameter, you need to pass it as a fit parameter to each step of the pipeline as follows:\n",
      "\n",
      "kwargs = {s[0] + '__sample_weight': sample_weight for s in model.steps}\n",
      "model.fit(X, y, **kwargs)\n",
      "\n",
      "\n",
      "  FutureWarning,\n",
      "/Library/Frameworks/Python.framework/Versions/3.7/lib/python3.7/site-packages/sklearn/linear_model/_base.py:145: FutureWarning: 'normalize' was deprecated in version 1.0 and will be removed in 1.2.\n",
      "If you wish to scale the data, use Pipeline with a StandardScaler in a preprocessing stage. To reproduce the previous behavior:\n",
      "\n",
      "from sklearn.pipeline import make_pipeline\n",
      "\n",
      "model = make_pipeline(StandardScaler(with_mean=False), LinearRegression())\n",
      "\n",
      "If you wish to pass a sample_weight parameter, you need to pass it as a fit parameter to each step of the pipeline as follows:\n",
      "\n",
      "kwargs = {s[0] + '__sample_weight': sample_weight for s in model.steps}\n",
      "model.fit(X, y, **kwargs)\n",
      "\n",
      "\n",
      "  FutureWarning,\n",
      "/Library/Frameworks/Python.framework/Versions/3.7/lib/python3.7/site-packages/sklearn/linear_model/_base.py:155: FutureWarning: 'normalize' was deprecated in version 1.0 and will be removed in 1.2. Please leave the normalize parameter to its default value to silence this warning. The default behavior of this estimator is to not do any normalization. If normalization is needed please use sklearn.preprocessing.StandardScaler instead.\n",
      "  FutureWarning,\n",
      "/Library/Frameworks/Python.framework/Versions/3.7/lib/python3.7/site-packages/sklearn/linear_model/_base.py:155: FutureWarning: 'normalize' was deprecated in version 1.0 and will be removed in 1.2. Please leave the normalize parameter to its default value to silence this warning. The default behavior of this estimator is to not do any normalization. If normalization is needed please use sklearn.preprocessing.StandardScaler instead.\n",
      "  FutureWarning,\n",
      "/Library/Frameworks/Python.framework/Versions/3.7/lib/python3.7/site-packages/sklearn/linear_model/_base.py:155: FutureWarning: 'normalize' was deprecated in version 1.0 and will be removed in 1.2. Please leave the normalize parameter to its default value to silence this warning. The default behavior of this estimator is to not do any normalization. If normalization is needed please use sklearn.preprocessing.StandardScaler instead.\n",
      "  FutureWarning,\n",
      "/Library/Frameworks/Python.framework/Versions/3.7/lib/python3.7/site-packages/sklearn/linear_model/_base.py:155: FutureWarning: 'normalize' was deprecated in version 1.0 and will be removed in 1.2. Please leave the normalize parameter to its default value to silence this warning. The default behavior of this estimator is to not do any normalization. If normalization is needed please use sklearn.preprocessing.StandardScaler instead.\n",
      "  FutureWarning,\n",
      "/Library/Frameworks/Python.framework/Versions/3.7/lib/python3.7/site-packages/sklearn/linear_model/_base.py:155: FutureWarning: 'normalize' was deprecated in version 1.0 and will be removed in 1.2. Please leave the normalize parameter to its default value to silence this warning. The default behavior of this estimator is to not do any normalization. If normalization is needed please use sklearn.preprocessing.StandardScaler instead.\n",
      "  FutureWarning,\n",
      "/Library/Frameworks/Python.framework/Versions/3.7/lib/python3.7/site-packages/sklearn/linear_model/_base.py:145: FutureWarning: 'normalize' was deprecated in version 1.0 and will be removed in 1.2.\n",
      "If you wish to scale the data, use Pipeline with a StandardScaler in a preprocessing stage. To reproduce the previous behavior:\n",
      "\n",
      "from sklearn.pipeline import make_pipeline\n",
      "\n",
      "model = make_pipeline(StandardScaler(with_mean=False), LinearRegression())\n",
      "\n",
      "If you wish to pass a sample_weight parameter, you need to pass it as a fit parameter to each step of the pipeline as follows:\n",
      "\n",
      "kwargs = {s[0] + '__sample_weight': sample_weight for s in model.steps}\n",
      "model.fit(X, y, **kwargs)\n",
      "\n",
      "\n",
      "  FutureWarning,\n",
      "/Library/Frameworks/Python.framework/Versions/3.7/lib/python3.7/site-packages/sklearn/linear_model/_base.py:145: FutureWarning: 'normalize' was deprecated in version 1.0 and will be removed in 1.2.\n",
      "If you wish to scale the data, use Pipeline with a StandardScaler in a preprocessing stage. To reproduce the previous behavior:\n",
      "\n",
      "from sklearn.pipeline import make_pipeline\n",
      "\n",
      "model = make_pipeline(StandardScaler(with_mean=False), LinearRegression())\n",
      "\n",
      "If you wish to pass a sample_weight parameter, you need to pass it as a fit parameter to each step of the pipeline as follows:\n",
      "\n",
      "kwargs = {s[0] + '__sample_weight': sample_weight for s in model.steps}\n",
      "model.fit(X, y, **kwargs)\n",
      "\n",
      "\n",
      "  FutureWarning,\n",
      "/Library/Frameworks/Python.framework/Versions/3.7/lib/python3.7/site-packages/sklearn/linear_model/_base.py:145: FutureWarning: 'normalize' was deprecated in version 1.0 and will be removed in 1.2.\n",
      "If you wish to scale the data, use Pipeline with a StandardScaler in a preprocessing stage. To reproduce the previous behavior:\n",
      "\n",
      "from sklearn.pipeline import make_pipeline\n",
      "\n",
      "model = make_pipeline(StandardScaler(with_mean=False), LinearRegression())\n",
      "\n",
      "If you wish to pass a sample_weight parameter, you need to pass it as a fit parameter to each step of the pipeline as follows:\n",
      "\n",
      "kwargs = {s[0] + '__sample_weight': sample_weight for s in model.steps}\n",
      "model.fit(X, y, **kwargs)\n",
      "\n",
      "\n",
      "  FutureWarning,\n",
      "/Library/Frameworks/Python.framework/Versions/3.7/lib/python3.7/site-packages/sklearn/linear_model/_base.py:145: FutureWarning: 'normalize' was deprecated in version 1.0 and will be removed in 1.2.\n",
      "If you wish to scale the data, use Pipeline with a StandardScaler in a preprocessing stage. To reproduce the previous behavior:\n",
      "\n",
      "from sklearn.pipeline import make_pipeline\n",
      "\n",
      "model = make_pipeline(StandardScaler(with_mean=False), LinearRegression())\n",
      "\n",
      "If you wish to pass a sample_weight parameter, you need to pass it as a fit parameter to each step of the pipeline as follows:\n",
      "\n",
      "kwargs = {s[0] + '__sample_weight': sample_weight for s in model.steps}\n",
      "model.fit(X, y, **kwargs)\n",
      "\n",
      "\n",
      "  FutureWarning,\n",
      "/Library/Frameworks/Python.framework/Versions/3.7/lib/python3.7/site-packages/sklearn/linear_model/_base.py:145: FutureWarning: 'normalize' was deprecated in version 1.0 and will be removed in 1.2.\n",
      "If you wish to scale the data, use Pipeline with a StandardScaler in a preprocessing stage. To reproduce the previous behavior:\n",
      "\n",
      "from sklearn.pipeline import make_pipeline\n",
      "\n",
      "model = make_pipeline(StandardScaler(with_mean=False), LinearRegression())\n",
      "\n",
      "If you wish to pass a sample_weight parameter, you need to pass it as a fit parameter to each step of the pipeline as follows:\n",
      "\n",
      "kwargs = {s[0] + '__sample_weight': sample_weight for s in model.steps}\n",
      "model.fit(X, y, **kwargs)\n",
      "\n",
      "\n",
      "  FutureWarning,\n",
      "/Library/Frameworks/Python.framework/Versions/3.7/lib/python3.7/site-packages/sklearn/linear_model/_base.py:155: FutureWarning: 'normalize' was deprecated in version 1.0 and will be removed in 1.2. Please leave the normalize parameter to its default value to silence this warning. The default behavior of this estimator is to not do any normalization. If normalization is needed please use sklearn.preprocessing.StandardScaler instead.\n",
      "  FutureWarning,\n",
      "/Library/Frameworks/Python.framework/Versions/3.7/lib/python3.7/site-packages/sklearn/linear_model/_base.py:155: FutureWarning: 'normalize' was deprecated in version 1.0 and will be removed in 1.2. Please leave the normalize parameter to its default value to silence this warning. The default behavior of this estimator is to not do any normalization. If normalization is needed please use sklearn.preprocessing.StandardScaler instead.\n",
      "  FutureWarning,\n",
      "/Library/Frameworks/Python.framework/Versions/3.7/lib/python3.7/site-packages/sklearn/linear_model/_base.py:155: FutureWarning: 'normalize' was deprecated in version 1.0 and will be removed in 1.2. Please leave the normalize parameter to its default value to silence this warning. The default behavior of this estimator is to not do any normalization. If normalization is needed please use sklearn.preprocessing.StandardScaler instead.\n",
      "  FutureWarning,\n",
      "/Library/Frameworks/Python.framework/Versions/3.7/lib/python3.7/site-packages/sklearn/linear_model/_base.py:155: FutureWarning: 'normalize' was deprecated in version 1.0 and will be removed in 1.2. Please leave the normalize parameter to its default value to silence this warning. The default behavior of this estimator is to not do any normalization. If normalization is needed please use sklearn.preprocessing.StandardScaler instead.\n",
      "  FutureWarning,\n",
      "/Library/Frameworks/Python.framework/Versions/3.7/lib/python3.7/site-packages/sklearn/linear_model/_base.py:155: FutureWarning: 'normalize' was deprecated in version 1.0 and will be removed in 1.2. Please leave the normalize parameter to its default value to silence this warning. The default behavior of this estimator is to not do any normalization. If normalization is needed please use sklearn.preprocessing.StandardScaler instead.\n",
      "  FutureWarning,\n",
      "/Library/Frameworks/Python.framework/Versions/3.7/lib/python3.7/site-packages/sklearn/linear_model/_base.py:145: FutureWarning: 'normalize' was deprecated in version 1.0 and will be removed in 1.2.\n",
      "If you wish to scale the data, use Pipeline with a StandardScaler in a preprocessing stage. To reproduce the previous behavior:\n",
      "\n",
      "from sklearn.pipeline import make_pipeline\n",
      "\n",
      "model = make_pipeline(StandardScaler(with_mean=False), LinearRegression())\n",
      "\n",
      "If you wish to pass a sample_weight parameter, you need to pass it as a fit parameter to each step of the pipeline as follows:\n",
      "\n",
      "kwargs = {s[0] + '__sample_weight': sample_weight for s in model.steps}\n",
      "model.fit(X, y, **kwargs)\n",
      "\n",
      "\n",
      "  FutureWarning,\n"
     ]
    }
   ],
   "source": [
    "from sklearn.linear_model import LinearRegression\n",
    "from sklearn.model_selection import RandomizedSearchCV\n",
    "# dont use rmse for random forest\n",
    "\n",
    "param_dist = {\n",
    "    'fit_intercept': [True, False],\n",
    "    'normalize': [True, False]\n",
    "}\n",
    "\n",
    "lr = LinearRegression()\n",
    "\n",
    "n_iter_search = 50\n",
    "\n",
    "random_search = RandomizedSearchCV(lr, param_distributions=param_dist, n_iter=n_iter_search, cv=5)\n",
    "\n",
    "\n",
    "random_search.fit(xTrain, yTrain)\n",
    "\n",
    "print(\"Best parameters found: \", random_search.best_params_)\n",
    "\n",
    "# results = trainModel(lr, xTrain, xTest, yTrain, yTest, \"Linear Regression\")\n",
    "# print(results)"
   ]
  },
  {
   "cell_type": "code",
   "execution_count": 9,
   "metadata": {},
   "outputs": [
    {
     "name": "stderr",
     "output_type": "stream",
     "text": [
      "/Library/Frameworks/Python.framework/Versions/3.7/lib/python3.7/site-packages/sklearn/model_selection/_search.py:296: UserWarning: The total space of parameters 2 is smaller than n_iter=10. Running 2 iterations. For exhaustive searches, use GridSearchCV.\n",
      "  UserWarning,\n"
     ]
    },
    {
     "name": "stdout",
     "output_type": "stream",
     "text": [
      "Best parameters found:  {'linearregression__fit_intercept': True}\n"
     ]
    }
   ],
   "source": [
    "from sklearn.pipeline import make_pipeline\n",
    "from sklearn.preprocessing import StandardScaler\n",
    "from sklearn.model_selection import RandomizedSearchCV\n",
    "from sklearn.linear_model import LinearRegression\n",
    "\n",
    "# Define your pipeline\n",
    "pipeline = make_pipeline(StandardScaler(), LinearRegression())\n",
    "\n",
    "# Define the hyperparameter space\n",
    "param_dist = {\n",
    "    'linearregression__fit_intercept': [True, False]\n",
    "}\n",
    "\n",
    "# Perform Random Search\n",
    "random_search = RandomizedSearchCV(pipeline, param_distributions=param_dist, n_iter=10, cv=5)\n",
    "random_search.fit(xTrain, yTrain)\n",
    "\n",
    "# Print the best parameters\n",
    "print(\"Best parameters found: \", random_search.best_params_)\n"
   ]
  },
  {
   "cell_type": "markdown",
   "metadata": {},
   "source": [
    "## Random Forest"
   ]
  },
  {
   "cell_type": "code",
   "execution_count": 39,
   "metadata": {},
   "outputs": [
    {
     "name": "stdout",
     "output_type": "stream",
     "text": [
      "Model: Random Forest Regressor\n",
      "Cross-validation results (each fold):\n",
      "   test_MSE   test_R2  test_RMSE  test_MAE\n",
      "0  0.172594  0.965821   0.415444  0.312546\n",
      "1  0.219851  0.965721   0.468883  0.366366\n",
      "2  0.268740  0.961374   0.518401  0.401580\n",
      "3  0.245871  0.947581   0.495854  0.389971\n",
      "4  0.259093  0.946831   0.509012  0.392615\n",
      "\n",
      "Mean of metrics:\n",
      "test_MSE     0.233230\n",
      "test_R2      0.957466\n",
      "test_RMSE    0.481519\n",
      "test_MAE     0.372615\n",
      "dtype: float64\n",
      "\n",
      "Standard Deviation of metrics:\n",
      "test_MSE     0.038553\n",
      "test_R2      0.009540\n",
      "test_RMSE    0.041374\n",
      "test_MAE     0.036012\n",
      "dtype: float64\n"
     ]
    },
    {
     "data": {
      "image/png": "[encoded data removed]",
      "text/plain": [
       "<Figure size 1000x600 with 1 Axes>"
      ]
     },
     "metadata": {},
     "output_type": "display_data"
    }
   ],
   "source": [
    "from sklearn.ensemble import RandomForestRegressor\n",
    "\n",
    "rf = RandomForestRegressor(max_depth = 10, random_state=100)\n",
    "\n",
    "meanRf, stdRf = trainModel(rf, \"Random Forest Regressor\")\n",
    "\n",
    "# rf = RandomForestRegressor(max_depth = 2, random_state=100)\n",
    "\n",
    "# trainModel(rf, \"Random Forest Regressor\")"
   ]
  },
  {
   "cell_type": "code",
   "execution_count": null,
   "metadata": {},
   "outputs": [],
   "source": [
    "from sklearn.ensemble import RandomForestRegressor\n",
    "from sklearn.model_selection import GridSearchCV\n",
    "param_grid = {\n",
    "    'n_estimators': [100, 200, 300],\n",
    "    'max_depth': [None, 10, 20, 30],\n",
    "    'min_samples_split': [2, 5, 10],\n",
    "    'min_samples_leaf': [1, 2, 4],\n",
    "    'max_features': ['auto', 'sqrt', 'log2']\n",
    "}\n",
    "\n",
    "rf = GridSearchCV(estimator=RandomForestRegressor(), param_grid=param_grid, cv=5, scoring='neg_mean_squared_error', n_jobs=-1)\n",
    "\n",
    "# rf = RandomForestRegressor(max_depth = 2, random_state=100)\n",
    "rf.fit(xTrain, yTrain)\n",
    "\n",
    "results = trainModel(rf, \"Random Forest Regressor\")\n",
    "print(results)"
   ]
  },
  {
   "cell_type": "markdown",
   "metadata": {},
   "source": [
    "## Support Vector Regression (SVR)"
   ]
  },
  {
   "cell_type": "code",
   "execution_count": 40,
   "metadata": {},
   "outputs": [
    {
     "name": "stdout",
     "output_type": "stream",
     "text": [
      "Model: Support Vector Regression\n",
      "Cross-validation results (each fold):\n",
      "   test_MSE   test_R2  test_RMSE  test_MAE\n",
      "0  0.170199  0.966295   0.412552  0.306509\n",
      "1  0.212530  0.966862   0.461009  0.355679\n",
      "2  0.262071  0.962333   0.511929  0.393412\n",
      "3  0.238541  0.949144   0.488407  0.376752\n",
      "4  0.270885  0.944411   0.520466  0.387934\n",
      "\n",
      "Mean of metrics:\n",
      "test_MSE     0.230845\n",
      "test_R2      0.957809\n",
      "test_RMSE    0.478873\n",
      "test_MAE     0.364057\n",
      "dtype: float64\n",
      "\n",
      "Standard Deviation of metrics:\n",
      "test_MSE     0.040776\n",
      "test_R2      0.010357\n",
      "test_RMSE    0.043678\n",
      "test_MAE     0.035267\n",
      "dtype: float64\n"
     ]
    },
    {
     "data": {
      "image/png": "[encoded data removed]",
      "text/plain": [
       "<Figure size 1000x600 with 1 Axes>"
      ]
     },
     "metadata": {},
     "output_type": "display_data"
    }
   ],
   "source": [
    "from sklearn.svm import SVR\n",
    "\n",
    "svr = SVR()\n",
    "\n",
    "meanSVR, stdSVR = trainModel(svr, \"Support Vector Regression\")\n",
    "\n"
   ]
  },
  {
   "cell_type": "code",
   "execution_count": 58,
   "metadata": {},
   "outputs": [
    {
     "name": "stdout",
     "output_type": "stream",
     "text": [
      "{'Linear Regression': [0.3718600811303904], 'Random Forest': [0.3726153990133593], 'SVR': [0.3640571330177263]}\n"
     ]
    },
    {
     "data": {
      "image/png": "[encoded data removed]",
      "text/plain": [
       "<Figure size 800x400 with 1 Axes>"
      ]
     },
     "metadata": {},
     "output_type": "display_data"
    },
    {
     "name": "stdout",
     "output_type": "stream",
     "text": [
      "{'Linear Regression': [0.9579365230237796], 'Random Forest': [0.9574656145192799], 'SVR': [0.9578090583463155]}\n"
     ]
    },
    {
     "data": {
      "image/png": "[encoded data removed]",
      "text/plain": [
       "<Figure size 800x400 with 1 Axes>"
      ]
     },
     "metadata": {},
     "output_type": "display_data"
    }
   ],
   "source": [
    "import matplotlib.pyplot as plt\n",
    "import seaborn as sns\n",
    "import pandas as pd\n",
    "\n",
    "plotResults = {\n",
    "    'Linear Regression': [meanLinearRes['test_MAE']],\n",
    "    'Random Forest': [meanRf['test_MAE']], \n",
    "    'SVR':[ meanSVR['test_MAE']]\n",
    "}\n",
    "print(plotResults)\n",
    "\n",
    "plotResultsDf = pd.DataFrame(plotResults)   \n",
    "plt.figure(figsize=(8, 4))\n",
    "sns.boxplot(data=plotResultsDf, palette=\"Set2\", width=0.6)\n",
    "plt.title('Comparison of Model Performance Using Mean Absolute Error')\n",
    "plt.xlabel('Models')\n",
    "plt.ylabel('Average Mean Absolute Error')\n",
    "plt.show()\n",
    "\n",
    "\n",
    "plotResults = {\n",
    "    'Linear Regression': [meanLinearRes['test_R2']],\n",
    "    'Random Forest': [meanRf['test_R2']], \n",
    "    'SVR':[ meanSVR['test_R2']]\n",
    "}\n",
    "print(plotResults)\n",
    "\n",
    "plotResultsDf = pd.DataFrame(plotResults)   \n",
    "plt.figure(figsize=(8, 4))\n",
    "sns.boxplot(data=plotResultsDf, palette=\"Set2\", width=0.6)\n",
    "plt.title('Comparison of Model Performance Using Mean Absolute Error')\n",
    "plt.xlabel('Models')\n",
    "plt.ylabel('Average Mean Absolute Error')\n",
    "plt.show()\n"
   ]
  },
  {
   "cell_type": "markdown",
   "metadata": {},
   "source": [
    "## Gradient Boosting Regressor"
   ]
  },
  {
   "cell_type": "code",
   "execution_count": 25,
   "metadata": {},
   "outputs": [
    {
     "name": "stdout",
     "output_type": "stream",
     "text": [
      "Model: Gradient Boosting Regressor\n",
      "Cross-validation results (each fold):\n",
      "   test_MSE   test_R2  test_RMSE  test_MAE\n",
      "0  0.211161  0.963217   0.459523  0.354036\n",
      "1  0.216311  0.962959   0.465093  0.356814\n",
      "2  0.217318  0.964381   0.466174  0.361169\n",
      "3  0.206791  0.964672   0.454742  0.353535\n",
      "4  0.209032  0.964704   0.457200  0.352852\n",
      "\n",
      "Mean of metrics:\n",
      "test_MSE     0.212122\n",
      "test_R2      0.963987\n",
      "test_RMSE    0.460546\n",
      "test_MAE     0.355681\n",
      "dtype: float64\n",
      "\n",
      "Standard Deviation of metrics:\n",
      "test_MSE     0.004567\n",
      "test_R2      0.000835\n",
      "test_RMSE    0.004957\n",
      "test_MAE     0.003417\n",
      "dtype: float64\n"
     ]
    }
   ],
   "source": [
    "from sklearn.ensemble import GradientBoostingRegressor\n",
    "\n",
    "gbr = GradientBoostingRegressor()\n",
    "\n",
    "trainModel(gbr, \"Gradient Boosting Regressor\")\n"
   ]
  },
  {
   "cell_type": "markdown",
   "metadata": {},
   "source": [
    "## XGBoost"
   ]
  },
  {
   "cell_type": "code",
   "execution_count": 16,
   "metadata": {},
   "outputs": [],
   "source": [
    "# import sys\n",
    "# !{sys.executable} -m pip install xgboost"
   ]
  },
  {
   "cell_type": "code",
   "execution_count": 26,
   "metadata": {},
   "outputs": [
    {
     "name": "stdout",
     "output_type": "stream",
     "text": [
      "Model: XGB Regressor\n",
      "Cross-validation results (each fold):\n",
      "   test_MSE   test_R2  test_RMSE  test_MAE\n",
      "0  0.211095  0.963229   0.459450  0.354020\n",
      "1  0.216247  0.962970   0.465024  0.356774\n",
      "2  0.217283  0.964387   0.466137  0.361164\n",
      "3  0.206789  0.964672   0.454740  0.353539\n",
      "4  0.209033  0.964703   0.457201  0.352860\n",
      "\n",
      "Mean of metrics:\n",
      "test_MSE     0.212089\n",
      "test_R2      0.963992\n",
      "test_RMSE    0.460510\n",
      "test_MAE     0.355671\n",
      "dtype: float64\n",
      "\n",
      "Standard Deviation of metrics:\n",
      "test_MSE     0.004547\n",
      "test_R2      0.000829\n",
      "test_RMSE    0.004934\n",
      "test_MAE     0.003412\n",
      "dtype: float64\n"
     ]
    }
   ],
   "source": [
    "import xgboost as xgb\n",
    "\n",
    "xgb_model = xgb.XGBRegressor()\n",
    "\n",
    "trainModel(gbr,  \"XGB Regressor\")\n"
   ]
  },
  {
   "cell_type": "markdown",
   "metadata": {},
   "source": [
    "# Model Comparison"
   ]
  },
  {
   "cell_type": "markdown",
   "metadata": {},
   "source": [
    "# Model for Time Created"
   ]
  },
  {
   "cell_type": "code",
   "execution_count": 21,
   "metadata": {},
   "outputs": [],
   "source": [
    "X = df[['monthSin', 'monthCos', 'hourSin', 'hourCos', 'weekdaySin', 'weekdayCos']]\n",
    "y = df['nShares', 'nComments']\n",
    "xTrain, xTest, yTrain, yTest = train_test_split(X, y, test_size=0.2, random_state=42)\n"
   ]
  },
  {
   "cell_type": "code",
   "execution_count": 22,
   "metadata": {},
   "outputs": [
    {
     "name": "stdout",
     "output_type": "stream",
     "text": [
      "--Random Forest Regressor--\n",
      "Training\n",
      "                    Method       MSE        R2     RMSE       MAE\n",
      "0  Random Forest Regressor  5.170395  0.043722  2.27385  1.821442\n",
      "Testing\n",
      "                    Method       MSE        R2      RMSE       MAE\n",
      "0  Random Forest Regressor  5.134233  0.044435  2.265885  1.830062\n",
      "\n"
     ]
    }
   ],
   "source": [
    "from sklearn.ensemble import RandomForestRegressor\n",
    "\n",
    "rf = RandomForestRegressor(max_depth = 2, random_state=100)\n",
    "rf.fit(xTrain, yTrain)\n",
    "\n",
    "results = trainModel(rf, xTrain, xTest, yTrain, yTest, \"Random Forest Regressor\")\n",
    "print(results)"
   ]
  },
  {
   "cell_type": "code",
   "execution_count": 23,
   "metadata": {},
   "outputs": [
    {
     "name": "stdout",
     "output_type": "stream",
     "text": [
      "--Random Forest Regressor--\n",
      "Training\n",
      "                    Method       MSE        R2      RMSE       MAE\n",
      "0  Random Forest Regressor  4.753945  0.120745  2.180354  1.735114\n",
      "Testing\n",
      "                    Method       MSE       R2      RMSE       MAE\n",
      "0  Random Forest Regressor  5.230222  0.02657  2.286968  1.832596\n",
      "\n"
     ]
    }
   ],
   "source": [
    "from sklearn.ensemble import RandomForestRegressor\n",
    "\n",
    "rf = RandomForestRegressor(n_estimators=100, random_state=42)\n",
    "rf.fit(xTrain, yTrain)\n",
    "\n",
    "results = trainModel(rf, xTrain, xTest, yTrain, yTest, \"Random Forest Regressor\")\n",
    "print(results)"
   ]
  },
  {
   "cell_type": "markdown",
   "metadata": {},
   "source": [
    "## Retraining the Model with more Features"
   ]
  },
  {
   "cell_type": "code",
   "execution_count": 24,
   "metadata": {},
   "outputs": [],
   "source": [
    "X = df[['monthSin', 'monthCos', 'hourSin', 'hourCos', 'weekdaySin', 'weekdayCos', 'nLikes']]\n",
    "y = df['nComments']\n",
    "xTrain, xTest, yTrain, yTest = train_test_split(X, y, test_size=0.2, random_state=42)"
   ]
  },
  {
   "cell_type": "code",
   "execution_count": 25,
   "metadata": {},
   "outputs": [
    {
     "name": "stdout",
     "output_type": "stream",
     "text": [
      "--Random Forest Regressor--\n",
      "Training\n",
      "                    Method       MSE        R2      RMSE       MAE\n",
      "0  Random Forest Regressor  0.170534  0.968459  0.412958  0.281065\n",
      "Testing\n",
      "                    Method       MSE        R2     RMSE       MAE\n",
      "0  Random Forest Regressor  1.154507  0.785127  1.07448  0.758068\n",
      "\n"
     ]
    }
   ],
   "source": [
    "from sklearn.ensemble import RandomForestRegressor\n",
    "\n",
    "rf = RandomForestRegressor(n_estimators=100, random_state=42)\n",
    "rf.fit(xTrain, yTrain)\n",
    "\n",
    "results = trainModel(rf, xTrain, xTest, yTrain, yTest, \"Random Forest Regressor\")\n",
    "print(results)"
   ]
  },
  {
   "cell_type": "code",
   "execution_count": 27,
   "metadata": {},
   "outputs": [
    {
     "name": "stdout",
     "output_type": "stream",
     "text": [
      "Average MSE: 1.1773 (+/- 0.0429)\n",
      "Average RMSE: 1.0848 (+/- 0.0199)\n",
      "Average MAE: 0.7513 (+/- 0.0039)\n",
      "Average R2: 0.7820 (+/- 0.0073)\n",
      "\n",
      "Overall Metrics on Full Dataset:\n",
      "MSE: 0.1687\n",
      "RMSE: 0.4107\n",
      "MAE: 0.2825\n",
      "R2: 0.9688\n"
     ]
    }
   ],
   "source": [
    "import pandas as pd\n",
    "from sklearn.model_selection import cross_val_score, KFold\n",
    "from sklearn.ensemble import RandomForestRegressor\n",
    "from sklearn.metrics import make_scorer, mean_squared_error, mean_absolute_error, r2_score\n",
    "import numpy as np\n",
    "\n",
    "# Feature and target definition\n",
    "X = df[['monthSin', 'monthCos', 'hourSin', 'hourCos', 'weekdaySin', 'weekdayCos', 'nLikes']]\n",
    "y = df['nComments']\n",
    "\n",
    "# Initialize the model\n",
    "rf = RandomForestRegressor(n_estimators=100, random_state=42)\n",
    "\n",
    "# Define custom scoring functions\n",
    "scoring = {\n",
    "    'MSE': make_scorer(mean_squared_error),\n",
    "    'RMSE': make_scorer(lambda y_true, y_pred: np.sqrt(mean_squared_error(y_true, y_pred))),\n",
    "    'MAE': make_scorer(mean_absolute_error),\n",
    "    'R2': make_scorer(r2_score)\n",
    "}\n",
    "\n",
    "# Perform five-fold cross-validation\n",
    "kf = KFold(n_splits=5, shuffle=True, random_state=42)\n",
    "cv_results = {key: cross_val_score(rf, X, y, cv=kf, scoring=scoring[key]) for key in scoring}\n",
    "\n",
    "# Calculate and print average metrics\n",
    "for metric_name, scores in cv_results.items():\n",
    "    print(f\"Average {metric_name}: {np.mean(scores):.4f} (+/- {np.std(scores):.4f})\")\n",
    "\n",
    "rf.fit(X, y)\n",
    "y_pred = rf.predict(X)\n",
    "\n",
    "overall_metrics = {\n",
    "    'MSE': mean_squared_error(y, y_pred),\n",
    "    'RMSE': np.sqrt(mean_squared_error(y, y_pred)),\n",
    "    'MAE': mean_absolute_error(y, y_pred),\n",
    "    'R2': r2_score(y, y_pred)\n",
    "}\n",
    "\n",
    "print(\"\\nOverall Metrics on Full Dataset:\")\n",
    "for metric_name, value in overall_metrics.items():\n",
    "    print(f\"{metric_name}: {value:.4f}\")\n"
   ]
  },
  {
   "cell_type": "code",
   "execution_count": 28,
   "metadata": {},
   "outputs": [
    {
     "name": "stdout",
     "output_type": "stream",
     "text": [
      "Average MSE: 0.5457 (+/- 0.0019)\n",
      "Average RMSE: 0.7387 (+/- 0.0013)\n",
      "Average MAE: 0.6421 (+/- 0.0013)\n",
      "Average R2: -0.0930 (+/- 0.0043)\n",
      "\n",
      "Overall Metrics on Full Dataset:\n",
      "MSE: 0.0763\n",
      "RMSE: 0.2762\n",
      "MAE: 0.2371\n",
      "R2: 0.8472\n"
     ]
    }
   ],
   "source": [
    "import pandas as pd\n",
    "from sklearn.model_selection import cross_val_score, KFold\n",
    "from sklearn.ensemble import RandomForestRegressor\n",
    "from sklearn.metrics import make_scorer, mean_squared_error, mean_absolute_error, r2_score\n",
    "import numpy as np\n",
    "\n",
    "# Feature and target definition\n",
    "X = df[['monthSin', 'monthCos', 'hourSin', 'hourCos', 'nComments', 'nLikes']]\n",
    "y = df[['weekdaySin', 'weekdayCos']]\n",
    "\n",
    "# Initialize the model\n",
    "rf = RandomForestRegressor(n_estimators=100, random_state=42)\n",
    "\n",
    "# Define custom scoring functions\n",
    "scoring = {\n",
    "    'MSE': make_scorer(mean_squared_error),\n",
    "    'RMSE': make_scorer(lambda y_true, y_pred: np.sqrt(mean_squared_error(y_true, y_pred))),\n",
    "    'MAE': make_scorer(mean_absolute_error),\n",
    "    'R2': make_scorer(r2_score)\n",
    "}\n",
    "\n",
    "# Perform five-fold cross-validation\n",
    "kf = KFold(n_splits=5, shuffle=True, random_state=42)\n",
    "cv_results = {key: cross_val_score(rf, X, y, cv=kf, scoring=scoring[key]) for key in scoring}\n",
    "\n",
    "# Calculate and print average metrics\n",
    "for metric_name, scores in cv_results.items():\n",
    "    print(f\"Average {metric_name}: {np.mean(scores):.4f} (+/- {np.std(scores):.4f})\")\n",
    "\n",
    "rf.fit(X, y)\n",
    "y_pred = rf.predict(X)\n",
    "\n",
    "overall_metrics = {\n",
    "    'MSE': mean_squared_error(y, y_pred),\n",
    "    'RMSE': np.sqrt(mean_squared_error(y, y_pred)),\n",
    "    'MAE': mean_absolute_error(y, y_pred),\n",
    "    'R2': r2_score(y, y_pred)\n",
    "}\n",
    "\n",
    "print(\"\\nOverall Metrics on Full Dataset:\")\n",
    "for metric_name, value in overall_metrics.items():\n",
    "    print(f\"{metric_name}: {value:.4f}\")\n"
   ]
  },
  {
   "cell_type": "code",
   "execution_count": null,
   "metadata": {},
   "outputs": [],
   "source": [
    "import numpy as np\n",
    "\n",
    "param_grid = {\n",
    "    'n_estimators': [100, 200, 300],\n",
    "    'max_depth': [None, 10, 20, 30],\n",
    "    'min_samples_split': [2, 5, 10],\n",
    "    'min_samples_leaf': [1, 2, 4],\n",
    "    'bootstrap': [True, False]\n",
    "}\n",
    "\n",
    "rf = RandomForestRegressor(random_state=100)\n",
    "grid_search = GridSearchCV(estimator=rf, param_grid=param_grid, cv=5, n_jobs=-1, verbose=2)\n",
    "grid_search.fit(xTrain, yTrain)\n",
    "\n",
    "# Best parameters from GridSearchCV\n",
    "print(f\"Best Parameters: {grid_search.best_params_}\")\n",
    "\n",
    "# Train the best model\n",
    "best_rf = grid_search.best_estimator_\n",
    "best_rf.fit(xTrain, yTrain)\n",
    "\n",
    "# Evaluate the model\n",
    "y_train_pred = best_rf.predict(xTrain)\n",
    "y_test_pred = best_rf.predict(xTest)\n",
    "\n",
    "# Calculate metrics\n",
    "metrics = {\n",
    "    'MSE': mean_squared_error,\n",
    "    'RMSE': lambda y_true, y_pred: np.sqrt(mean_squared_error(y_true, y_pred)),\n",
    "    'MAE': mean_absolute_error,\n",
    "    'R2': r2_score\n",
    "}\n",
    "\n",
    "# Print training and testing metrics\n",
    "for name, metric in metrics.items():\n",
    "    print(f\"Training {name}: {metric(yTrain, y_train_pred)}\")\n",
    "    print(f\"Testing {name}: {metric(yTest, y_test_pred)}\")\n",
    "\n",
    "# Feature importance\n",
    "importances = best_rf.feature_importances_\n",
    "feature_importance_df = pd.DataFrame({'Feature': X.columns, 'Importance': importances})\n",
    "print(feature_importance_df.sort_values(by='Importance', ascending=False))"
   ]
  },
  {
   "cell_type": "markdown",
   "metadata": {},
   "source": []
  }
 ],
 "metadata": {
  "kernelspec": {
   "display_name": "Python 3.7.0 64-bit",
   "language": "python",
   "name": "python3"
  },
  "language_info": {
   "codemirror_mode": {
    "name": "ipython",
    "version": 3
   },
   "file_extension": ".py",
   "mimetype": "text/x-python",
   "name": "python",
   "nbconvert_exporter": "python",
   "pygments_lexer": "ipython3",
   "version": "3.7.0"
  },
  "orig_nbformat": 4,
  "vscode": {
   "interpreter": {
    "hash": "aee8b7b246df8f9039afb4144a1f6fd8d2ca17a180786b69acc140d282b71a49"
   }
  }
 },
 "nbformat": 4,
 "nbformat_minor": 2
}
